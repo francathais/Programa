{
  "cells": [
    {
      "cell_type": "markdown",
      "metadata": {
        "id": "hm7a4gklJ1Oj"
      },
      "source": [
        "𝐍𝐎𝐕𝐎𝐒 𝐑𝐄𝐒𝐓𝐀𝐔𝐑𝐀𝐍𝐓𝐄𝐒"
      ]
    },
    {
      "cell_type": "code",
      "execution_count": 1,
      "metadata": {
        "id": "m3uTFd1OWRN_"
      },
      "outputs": [],
      "source": [
        "import os"
      ]
    },
    {
      "cell_type": "code",
      "execution_count": 2,
      "metadata": {
        "id": "pXE32XeyG_Py"
      },
      "outputs": [],
      "source": [
        "restaurantes = ['Pizza', 'Sushi']"
      ]
    },
    {
      "cell_type": "code",
      "execution_count": 3,
      "metadata": {
        "id": "VtvVopEVEY0d"
      },
      "outputs": [],
      "source": [
        "def exibir_nome_do_programa():\n",
        "    print('𝐍𝐎𝐕𝐎𝐒 𝐑𝐄𝐒𝐓𝐀𝐔𝐑𝐀𝐍𝐓𝐄𝐒')"
      ]
    },
    {
      "cell_type": "code",
      "execution_count": 4,
      "metadata": {
        "id": "fxijAoXL_4vP"
      },
      "outputs": [],
      "source": [
        "def exibir_opções():\n",
        "    print('1. Cadastrar novo restaurante')\n",
        "    print('2. Listar restaurantes')\n",
        "    print('3. Ativar cupom')\n",
        "    print('4. Nossas redes')\n",
        "    print('5. Sair')"
      ]
    },
    {
      "cell_type": "code",
      "execution_count": 5,
      "metadata": {
        "id": "Ea7nbA3tVpU-"
      },
      "outputs": [],
      "source": [
        "def finalizar_app():\n",
        "  os.system('cls')\n",
        "  print('encerrando')"
      ]
    },
    {
      "cell_type": "code",
      "execution_count": 6,
      "metadata": {
        "id": "eMMEim_PyXwF"
      },
      "outputs": [],
      "source": [
        "def voltar_ao_manu_principal():\n",
        "  input('Digite uma tecla para voltar ao menu principal')\n",
        "  main()"
      ]
    },
    {
      "cell_type": "code",
      "execution_count": 7,
      "metadata": {
        "id": "MbmOzeLGAbr9"
      },
      "outputs": [],
      "source": [
        "def opcao_invalida():\n",
        "  print('Opção inválida\\n')\n",
        "  voltar_ao_manu_principal()"
      ]
    },
    {
      "cell_type": "code",
      "execution_count": 8,
      "metadata": {
        "id": "cJhOpp3UGs52"
      },
      "outputs": [],
      "source": [
        "def cadastrar_novo_restaurante():\n",
        "  os.system('cls')\n",
        "  print('Cadastros de novos restaurantes')\n",
        "  nome_do_restaurante = input('Nome do novo restaurante: ')\n",
        "  restaurantes.append(nome_do_restaurante)\n",
        "  print(f'O restaurante {nome_do_restaurante} foi cadastrado com sucesso\\n')\n",
        "  voltar_ao_manu_principal()"
      ]
    },
    {
      "cell_type": "code",
      "execution_count": 9,
      "metadata": {
        "id": "jz0M8tp9ZIfV"
      },
      "outputs": [],
      "source": [
        "def listar_restaurantes():\n",
        "    os.system('cls')\n",
        "    print('\\nListando os restaurantes\\n')\n",
        "\n",
        "    for restaurante in restaurantes:\n",
        "        print(f'.{restaurante}')\n",
        "\n",
        "    voltar_ao_manu_principal()\n",
        "\n",
        "    #input('\\nDigite uma tecla para voltar ao menu principal')\n",
        "    #main()"
      ]
    },
    {
      "cell_type": "code",
      "execution_count": 10,
      "metadata": {
        "id": "xCzOpHWFNFWb"
      },
      "outputs": [],
      "source": [
        "def escolher_opcao():\n",
        "    try:\n",
        "        opcao_escolhida = int(input('Escolha uma opção: '))\n",
        "        if opcao_escolhida == 1:\n",
        "            cadastrar_novo_restaurante()\n",
        "        elif opcao_escolhida == 2:\n",
        "            listar_restaurantes()\n",
        "        elif opcao_escolhida == 3:\n",
        "            print(\"3. Ativar cupom\")\n",
        "        elif opcao_escolhida == 4:\n",
        "            print(\"4. Nossas redes\")\n",
        "        else:\n",
        "            finalizar_app()\n",
        "    except:\n",
        "        opcao_invalida()"
      ]
    },
    {
      "cell_type": "code",
      "execution_count": 11,
      "metadata": {
        "id": "jIUGQFJxAVLg"
      },
      "outputs": [],
      "source": [
        "#opcao_escolhida = input('escolha uma opção')\n",
        "#print(f'Você realmente escolheu a opção {opcao_escolhida}?')"
      ]
    },
    {
      "cell_type": "code",
      "execution_count": null,
      "metadata": {
        "colab": {
          "background_save": true,
          "base_uri": "https://localhost:8080/"
        },
        "id": "L5Klv-ZtnC5I",
        "outputId": "af7fc544-4cac-4d1a-832a-90c0d9a11fd6"
      },
      "outputs": [
        {
          "output_type": "stream",
          "name": "stdout",
          "text": [
            "𝐍𝐎𝐕𝐎𝐒 𝐑𝐄𝐒𝐓𝐀𝐔𝐑𝐀𝐍𝐓𝐄𝐒\n",
            "1. Cadastrar novo restaurante\n",
            "2. Listar restaurantes\n",
            "3. Ativar cupom\n",
            "4. Nossas redes\n",
            "5. Sair\n",
            "Escolha uma opção: 1\n",
            "Cadastros de novos restaurantes\n",
            "Nome do novo restaurante: Thais\n",
            "O restaurante Thais foi cadastrado com sucesso\n",
            "\n",
            "Digite uma tecla para voltar ao menu principal2\n",
            "𝐍𝐎𝐕𝐎𝐒 𝐑𝐄𝐒𝐓𝐀𝐔𝐑𝐀𝐍𝐓𝐄𝐒\n",
            "1. Cadastrar novo restaurante\n",
            "2. Listar restaurantes\n",
            "3. Ativar cupom\n",
            "4. Nossas redes\n",
            "5. Sair\n",
            "Escolha uma opção: 2\n",
            "Listando os restaurantes\n",
            "\n",
            ".Pizza\n",
            ".Sushi\n",
            ".Teste\n"
          ]
        }
      ],
      "source": [
        "def main():\n",
        "    os.system ('cls')\n",
        "    exibir_nome_do_programa()\n",
        "    exibir_opções()\n",
        "    escolher_opcao()\n",
        "    cadastrar_novo_restaurante()\n",
        "if __name__ == '__main__':\n",
        "    main()"
      ]
    }
  ],
  "metadata": {
    "colab": {
      "provenance": []
    },
    "kernelspec": {
      "display_name": "Python 3",
      "name": "python3"
    },
    "language_info": {
      "name": "python"
    }
  },
  "nbformat": 4,
  "nbformat_minor": 0
}
